{
 "cells": [
  {
   "cell_type": "code",
   "execution_count": 4,
   "id": "2d9fba4f",
   "metadata": {},
   "outputs": [],
   "source": [
    "import tkinter\n",
    "from tkinter import *\n",
    "from textblob import TextBlob\n",
    "\n",
    "root=Tk()\n",
    "root.title(\"Spelling Checker\")\n",
    "root.geometry(\"700x400\")\n",
    "root.config(background=\"#dae6f6\")\n",
    "\n",
    "def check_spelling():\n",
    "    word=enter_text.get()\n",
    "    a=TextBlob(word)\n",
    "    right=str(a.correct())\n",
    "    \n",
    "    cs=Label(root,text=\"Correct text is : \",font=(\"poppins\",20),bg=\"#dae6f6\",fg=\"#364971\")\n",
    "    cs.place(x=100,y=250)\n",
    "    spell.config(text=right)\n",
    "\n",
    "heading=Label(root,text=\"Spelling Checker\",font=(\"Trebuchet MS\",30,\"bold\"),bg=\"#dae6f6\",fg=\"#364971\")\n",
    "heading.pack(pady=(50,0))\n",
    "\n",
    "enter_text=Entry(root,justify=\"center\",width=30,font=(\"popins\",25),bg=\"white\",border=2)\n",
    "enter_text.pack(pady=10)\n",
    "enter_text.focus()\n",
    "\n",
    "button=Button(root,text=\"Check\",font=(\"arial\",20,\"bold\"),fg=\"white\",bg=\"red\",command=check_spelling)\n",
    "button.pack()\n",
    "\n",
    "spell=Label(root,font=(\"poppins\",20),bg=\"#dae6f6\",fg=\"#364971\")\n",
    "spell.place(x=350,y=250)\n",
    "\n",
    "root.mainloop()"
   ]
  },
  {
   "cell_type": "code",
   "execution_count": null,
   "id": "a1b6622a",
   "metadata": {},
   "outputs": [],
   "source": []
  },
  {
   "cell_type": "code",
   "execution_count": null,
   "id": "3835471d",
   "metadata": {},
   "outputs": [],
   "source": []
  }
 ],
 "metadata": {
  "kernelspec": {
   "display_name": "Python 3 (ipykernel)",
   "language": "python",
   "name": "python3"
  },
  "language_info": {
   "codemirror_mode": {
    "name": "ipython",
    "version": 3
   },
   "file_extension": ".py",
   "mimetype": "text/x-python",
   "name": "python",
   "nbconvert_exporter": "python",
   "pygments_lexer": "ipython3",
   "version": "3.9.13"
  }
 },
 "nbformat": 4,
 "nbformat_minor": 5
}
